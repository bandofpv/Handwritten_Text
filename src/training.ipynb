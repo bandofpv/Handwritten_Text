{
  "nbformat": 4,
  "nbformat_minor": 0,
  "metadata": {
    "orig_nbformat": 2,
    "file_extension": ".py",
    "mimetype": "text/x-python",
    "name": "python",
    "npconvert_exporter": "python",
    "pygments_lexer": "ipython3",
    "version": 3,
    "colab": {
      "name": "training.ipynb",
      "provenance": [],
      "collapsed_sections": [
        "oMty1YwuWHpN"
      ],
      "include_colab_link": true
    },
    "kernelspec": {
      "name": "python3",
      "display_name": "Python 3"
    },
    "accelerator": "GPU"
  },
  "cells": [
    {
      "cell_type": "markdown",
      "metadata": {
        "id": "view-in-github",
        "colab_type": "text"
      },
      "source": [
        "<a href=\"https://colab.research.google.com/github/bandofpv/Handwritten_Text/blob/master/src/training.ipynb\" target=\"_parent\"><img src=\"https://colab.research.google.com/assets/colab-badge.svg\" alt=\"Open In Colab\"/></a>"
      ]
    },
    {
      "cell_type": "markdown",
      "metadata": {
        "colab_type": "text",
        "id": "gP-v0E_S-mQP"
      },
      "source": [
        "# Handwritten Text \n",
        "\n",
        "This tutorial shows how to train a Handwritten Text recognition model in your Google Colab. View the full tutorial [here](https://www.hackster.io/bandofpv/reading-eye-for-the-blind-with-jetson-nano-tensorflow-8657ed)\n",
        "\n"
      ]
    },
    {
      "cell_type": "markdown",
      "metadata": {
        "colab_type": "text",
        "id": "jydsAcWgWVth"
      },
      "source": [
        "## 1 Google Drive Environment\n"
      ]
    },
    {
      "cell_type": "markdown",
      "metadata": {
        "colab_type": "text",
        "id": "wk3e7YJiXzSl"
      },
      "source": [
        "### 1.1 TensorFlow 2.0"
      ]
    },
    {
      "cell_type": "markdown",
      "metadata": {
        "colab_type": "text",
        "id": "Z7twXyNGXtbJ"
      },
      "source": [
        "Make sure the jupyter notebook is using GPU mode."
      ]
    },
    {
      "cell_type": "code",
      "metadata": {
        "colab_type": "code",
        "id": "mHw4tODULT1Z",
        "outputId": "5b27c86b-3b6f-48eb-9a2f-669327312386",
        "colab": {
          "base_uri": "https://localhost:8080/",
          "height": 312
        }
      },
      "source": [
        "!nvidia-smi"
      ],
      "execution_count": 0,
      "outputs": [
        {
          "output_type": "stream",
          "text": [
            "Thu Feb  6 02:42:52 2020       \n",
            "+-----------------------------------------------------------------------------+\n",
            "| NVIDIA-SMI 440.48.02    Driver Version: 418.67       CUDA Version: 10.1     |\n",
            "|-------------------------------+----------------------+----------------------+\n",
            "| GPU  Name        Persistence-M| Bus-Id        Disp.A | Volatile Uncorr. ECC |\n",
            "| Fan  Temp  Perf  Pwr:Usage/Cap|         Memory-Usage | GPU-Util  Compute M. |\n",
            "|===============================+======================+======================|\n",
            "|   0  Tesla T4            Off  | 00000000:00:04.0 Off |                    0 |\n",
            "| N/A   52C    P8    10W /  70W |      0MiB / 15079MiB |      0%      Default |\n",
            "+-------------------------------+----------------------+----------------------+\n",
            "                                                                               \n",
            "+-----------------------------------------------------------------------------+\n",
            "| Processes:                                                       GPU Memory |\n",
            "|  GPU       PID   Type   Process name                             Usage      |\n",
            "|=============================================================================|\n",
            "|  No running processes found                                                 |\n",
            "+-----------------------------------------------------------------------------+\n"
          ],
          "name": "stdout"
        }
      ]
    },
    {
      "cell_type": "markdown",
      "metadata": {
        "colab_type": "text",
        "id": "UJECz8H8XVCY"
      },
      "source": [
        "Now, we'll install TensorFlow 2.0 with GPU support."
      ]
    },
    {
      "cell_type": "code",
      "metadata": {
        "colab_type": "code",
        "id": "FMg-B5PH9h3r",
        "outputId": "8bf5e4e4-5dd1-424e-a254-828c02229464",
        "colab": {
          "base_uri": "https://localhost:8080/",
          "height": 156
        }
      },
      "source": [
        "!pip install -q tensorflow-gpu==2.1.0"
      ],
      "execution_count": 0,
      "outputs": [
        {
          "output_type": "stream",
          "text": [
            "\u001b[K     |████████████████████████████████| 421.8MB 38kB/s \n",
            "\u001b[K     |████████████████████████████████| 450kB 59.0MB/s \n",
            "\u001b[K     |████████████████████████████████| 3.8MB 63.7MB/s \n",
            "\u001b[K     |████████████████████████████████| 81kB 13.1MB/s \n",
            "\u001b[31mERROR: tensorflow 1.15.0 has requirement tensorboard<1.16.0,>=1.15.0, but you'll have tensorboard 2.1.0 which is incompatible.\u001b[0m\n",
            "\u001b[31mERROR: tensorflow 1.15.0 has requirement tensorflow-estimator==1.15.1, but you'll have tensorflow-estimator 2.1.0 which is incompatible.\u001b[0m\n",
            "\u001b[31mERROR: tensorboard 2.1.0 has requirement grpcio>=1.24.3, but you'll have grpcio 1.15.0 which is incompatible.\u001b[0m\n",
            "\u001b[31mERROR: google-colab 1.0.0 has requirement google-auth~=1.4.0, but you'll have google-auth 1.11.0 which is incompatible.\u001b[0m\n",
            "\u001b[?25h"
          ],
          "name": "stdout"
        }
      ]
    },
    {
      "cell_type": "code",
      "metadata": {
        "colab_type": "code",
        "id": "w5ukHtpZiz0g",
        "outputId": "a820ff8d-29f7-4ec2-b9ce-e7ee35913944",
        "colab": {
          "base_uri": "https://localhost:8080/",
          "height": 34
        }
      },
      "source": [
        "import tensorflow as tf\n",
        "\n",
        "device_name = tf.test.gpu_device_name()\n",
        "\n",
        "if device_name != \"/device:GPU:0\":\n",
        "    raise SystemError(\"GPU device not found\")\n",
        "\n",
        "print(f\"Found GPU at: {device_name}\")"
      ],
      "execution_count": 0,
      "outputs": [
        {
          "output_type": "stream",
          "text": [
            "Found GPU at: /device:GPU:0\n"
          ],
          "name": "stdout"
        }
      ]
    },
    {
      "cell_type": "markdown",
      "metadata": {
        "colab_type": "text",
        "id": "FyMv5wyDXxqc"
      },
      "source": [
        "### 1.2 Google Drive"
      ]
    },
    {
      "cell_type": "markdown",
      "metadata": {
        "colab_type": "text",
        "id": "P5gj6qwoX9W3"
      },
      "source": [
        "Mount your Google Drive partition.\n",
        "\n",
        "**Note:** *\\\"Colab Notebooks/handwritten-text/src/\\\"* was the directory where you put the project folders, specifically the **src** folder."
      ]
    },
    {
      "cell_type": "code",
      "metadata": {
        "colab_type": "code",
        "id": "ACQn1iBF9k9O",
        "outputId": "a36934be-5de6-4b83-a28a-1aaf76e683ed",
        "colab": {
          "base_uri": "https://localhost:8080/",
          "height": 228
        }
      },
      "source": [
        "from google.colab import drive\n",
        "\n",
        "drive.mount(\"./gdrive\", force_remount=True)\n",
        "\n",
        "%cd \"./gdrive/My Drive/Colab Notebooks/handwritten-text-recognition/src/\"\n",
        "!ls -l"
      ],
      "execution_count": 0,
      "outputs": [
        {
          "output_type": "stream",
          "text": [
            "Go to this URL in a browser: https://accounts.google.com/o/oauth2/auth?client_id=947318989803-6bn6qk8qdgf4n4g3pfee6491hc0brc4i.apps.googleusercontent.com&redirect_uri=urn%3aietf%3awg%3aoauth%3a2.0%3aoob&response_type=code&scope=email%20https%3a%2f%2fwww.googleapis.com%2fauth%2fdocs.test%20https%3a%2f%2fwww.googleapis.com%2fauth%2fdrive%20https%3a%2f%2fwww.googleapis.com%2fauth%2fdrive.photos.readonly%20https%3a%2f%2fwww.googleapis.com%2fauth%2fpeopleapi.readonly\n",
            "\n",
            "Enter your authorization code:\n",
            "··········\n",
            "Mounted at ./gdrive\n",
            "/content/gdrive/My Drive/Colab Notebooks/handwritten-text-recognition/src\n",
            "total 37\n",
            "drwx------ 2 root root  4096 Feb  5 06:08 data\n",
            "-rw------- 1 root root 11560 Feb  5 06:08 main.py\n",
            "drwx------ 2 root root  4096 Feb  5 06:08 network\n",
            "-rw------- 1 root root 17914 Feb  5 06:08 tutorial.ipynb\n"
          ],
          "name": "stdout"
        }
      ]
    },
    {
      "cell_type": "markdown",
      "metadata": {
        "colab_type": "text",
        "id": "YwogUA8RZAyp"
      },
      "source": [
        "After mount, you can see the list os files in the project folder."
      ]
    },
    {
      "cell_type": "markdown",
      "metadata": {
        "colab_type": "text",
        "id": "-fj7fSngY1IX"
      },
      "source": [
        "## 2 Set Python Classes"
      ]
    },
    {
      "cell_type": "markdown",
      "metadata": {
        "colab_type": "text",
        "id": "p6Q4cOlWhNl3"
      },
      "source": [
        "### 2.1 Environment"
      ]
    },
    {
      "cell_type": "markdown",
      "metadata": {
        "colab_type": "text",
        "id": "wvqL2Eq5ZUc7"
      },
      "source": [
        "First, let's define our environment variables.\n",
        "\n",
        "Set the main configuration parameters, like input size, batch size, number of epochs and list of characters your liking or keep the default parameters. \n",
        "\n",
        "* **dataset**: \"bentham\", \"iam\", \"rimes\", \"saintgall\", \"washington\"\n",
        "\n",
        "* **arch**: network to run: \"bluche\", \"puigcerver\", \"flor\"\n",
        "\n",
        "* **epochs**: number of epochs\n",
        "\n",
        "* **batch_size**: number size of the batch"
      ]
    },
    {
      "cell_type": "code",
      "metadata": {
        "colab_type": "code",
        "id": "_Qpr3drnGMWS",
        "outputId": "5e838cc8-2288-4126-9472-023e469ae369",
        "colab": {
          "base_uri": "https://localhost:8080/",
          "height": 86
        }
      },
      "source": [
        "import os\n",
        "import datetime\n",
        "import string\n",
        "\n",
        "# define parameters\n",
        "source = \"iam\"\n",
        "arch = \"flor\"\n",
        "epochs = 1000\n",
        "batch_size = 16\n",
        "\n",
        "# define paths\n",
        "source_path = os.path.join(\"..\", \"data\", f\"{source}.hdf5\")\n",
        "output_path = os.path.join(\"..\", \"output\", source, arch)\n",
        "target_path = os.path.join(output_path, \"checkpoint_weights.hdf5\")\n",
        "os.makedirs(output_path, exist_ok=True)\n",
        "\n",
        "# define input size, number max of chars per line and list of valid chars\n",
        "input_size = (1024, 128, 1)\n",
        "max_text_length = 128\n",
        "charset_base = string.printable[:95]\n",
        "\n",
        "print(\"source:\", source_path)\n",
        "print(\"output\", output_path)\n",
        "print(\"target\", target_path)\n",
        "print(\"charset:\", charset_base)"
      ],
      "execution_count": 0,
      "outputs": [
        {
          "output_type": "stream",
          "text": [
            "source: ../data/iam.hdf5\n",
            "output ../output/iam/flor\n",
            "target ../output/iam/flor/checkpoint_weights.hdf5\n",
            "charset: 0123456789abcdefghijklmnopqrstuvwxyzABCDEFGHIJKLMNOPQRSTUVWXYZ!\"#$%&'()*+,-./:;<=>?@[\\]^_`{|}~ \n"
          ],
          "name": "stdout"
        }
      ]
    },
    {
      "cell_type": "markdown",
      "metadata": {
        "colab_type": "text",
        "id": "BFextshOhTKr"
      },
      "source": [
        "### 2.2 DataGenerator Class"
      ]
    },
    {
      "cell_type": "markdown",
      "metadata": {
        "colab_type": "text",
        "id": "KfZ1mfvsanu1"
      },
      "source": [
        "The second class is **DataGenerator()**, responsible for:\n",
        "\n",
        "* Load the dataset partitions (train, valid, test);\n",
        "\n",
        "* Manager batchs for train/validation/test process."
      ]
    },
    {
      "cell_type": "code",
      "metadata": {
        "colab_type": "code",
        "id": "8k9vpNzMIAi2",
        "outputId": "cb8e9205-4cd8-4f7c-f1a0-613f25a3cd48",
        "colab": {
          "base_uri": "https://localhost:8080/",
          "height": 69
        }
      },
      "source": [
        "from data.generator import DataGenerator\n",
        "\n",
        "dtgen = DataGenerator(source=source_path,\n",
        "                      batch_size=batch_size,\n",
        "                      charset=charset_base,\n",
        "                      max_text_length=max_text_length)\n",
        "\n",
        "print(f\"Train images: {dtgen.size['train']}\")\n",
        "print(f\"Validation images: {dtgen.size['valid']}\")\n",
        "print(f\"Test images: {dtgen.size['test']}\")"
      ],
      "execution_count": 0,
      "outputs": [
        {
          "output_type": "stream",
          "text": [
            "Train images: 5369\n",
            "Validation images: 744\n",
            "Test images: 1425\n"
          ],
          "name": "stdout"
        }
      ]
    },
    {
      "cell_type": "markdown",
      "metadata": {
        "colab_type": "text",
        "id": "-OdgNLK0hYAA"
      },
      "source": [
        "### 2.3 HTRModel Class"
      ]
    },
    {
      "cell_type": "markdown",
      "metadata": {
        "colab_type": "text",
        "id": "jHktk8AFcnKy"
      },
      "source": [
        "The third class is **HTRModel()**, was developed to be easy to use and to abstract the complicated flow of a HTR system. It's responsible for:\n",
        "\n",
        "* Create model with Handwritten Text Recognition flow, in which calculate the loss function by CTC and decode output to calculate the HTR metrics (CER, WER and SER);\n",
        "\n",
        "* Save and load model;\n",
        "\n",
        "* Load weights in the models (train/infer);\n",
        "\n",
        "* Make Train/Predict process using *generator*.\n",
        "\n",
        "To make a dynamic HTRModel, its parameters are the *architecture*, *input_size* and *vocab_size*."
      ]
    },
    {
      "cell_type": "code",
      "metadata": {
        "colab_type": "code",
        "id": "nV0GreStISTR",
        "outputId": "a582bf9f-a173-4010-d934-591da6be8d89",
        "colab": {
          "base_uri": "https://localhost:8080/",
          "height": 1000
        }
      },
      "source": [
        "from network.model import HTRModel\n",
        "\n",
        "# create and compile HTRModel\n",
        "# note: `learning_rate=None` will get architecture default value\n",
        "model = HTRModel(architecture=arch, input_size=input_size, vocab_size=dtgen.tokenizer.vocab_size)\n",
        "model.compile(learning_rate=0.001)\n",
        "\n",
        "# save network summary\n",
        "model.summary(output_path, \"summary.txt\")\n",
        "\n",
        "# get default callbacks and load checkpoint weights file (HDF5) if exists\n",
        "model.load_checkpoint(target=target_path)\n",
        "\n",
        "callbacks = model.get_callbacks(logdir=output_path, checkpoint=target_path, verbose=1)"
      ],
      "execution_count": 0,
      "outputs": [
        {
          "output_type": "stream",
          "text": [
            "Model: \"model\"\n",
            "_________________________________________________________________\n",
            "Layer (type)                 Output Shape              Param #   \n",
            "=================================================================\n",
            "input (InputLayer)           [(None, 1024, 128, 1)]    0         \n",
            "_________________________________________________________________\n",
            "conv2d (Conv2D)              (None, 512, 64, 16)       160       \n",
            "_________________________________________________________________\n",
            "p_re_lu (PReLU)              (None, 512, 64, 16)       16        \n",
            "_________________________________________________________________\n",
            "batch_normalization (BatchNo (None, 512, 64, 16)       112       \n",
            "_________________________________________________________________\n",
            "full_gated_conv2d (FullGated (None, 512, 64, 16)       4640      \n",
            "_________________________________________________________________\n",
            "conv2d_1 (Conv2D)            (None, 512, 64, 32)       4640      \n",
            "_________________________________________________________________\n",
            "p_re_lu_1 (PReLU)            (None, 512, 64, 32)       32        \n",
            "_________________________________________________________________\n",
            "batch_normalization_1 (Batch (None, 512, 64, 32)       224       \n",
            "_________________________________________________________________\n",
            "full_gated_conv2d_1 (FullGat (None, 512, 64, 32)       18496     \n",
            "_________________________________________________________________\n",
            "conv2d_2 (Conv2D)            (None, 256, 16, 40)       10280     \n",
            "_________________________________________________________________\n",
            "p_re_lu_2 (PReLU)            (None, 256, 16, 40)       40        \n",
            "_________________________________________________________________\n",
            "batch_normalization_2 (Batch (None, 256, 16, 40)       280       \n",
            "_________________________________________________________________\n",
            "full_gated_conv2d_2 (FullGat (None, 256, 16, 40)       28880     \n",
            "_________________________________________________________________\n",
            "dropout (Dropout)            (None, 256, 16, 40)       0         \n",
            "_________________________________________________________________\n",
            "conv2d_3 (Conv2D)            (None, 256, 16, 48)       17328     \n",
            "_________________________________________________________________\n",
            "p_re_lu_3 (PReLU)            (None, 256, 16, 48)       48        \n",
            "_________________________________________________________________\n",
            "batch_normalization_3 (Batch (None, 256, 16, 48)       336       \n",
            "_________________________________________________________________\n",
            "full_gated_conv2d_3 (FullGat (None, 256, 16, 48)       41568     \n",
            "_________________________________________________________________\n",
            "dropout_1 (Dropout)          (None, 256, 16, 48)       0         \n",
            "_________________________________________________________________\n",
            "conv2d_4 (Conv2D)            (None, 128, 4, 56)        21560     \n",
            "_________________________________________________________________\n",
            "p_re_lu_4 (PReLU)            (None, 128, 4, 56)        56        \n",
            "_________________________________________________________________\n",
            "batch_normalization_4 (Batch (None, 128, 4, 56)        392       \n",
            "_________________________________________________________________\n",
            "full_gated_conv2d_4 (FullGat (None, 128, 4, 56)        56560     \n",
            "_________________________________________________________________\n",
            "dropout_2 (Dropout)          (None, 128, 4, 56)        0         \n",
            "_________________________________________________________________\n",
            "conv2d_5 (Conv2D)            (None, 128, 4, 64)        32320     \n",
            "_________________________________________________________________\n",
            "p_re_lu_5 (PReLU)            (None, 128, 4, 64)        64        \n",
            "_________________________________________________________________\n",
            "batch_normalization_5 (Batch (None, 128, 4, 64)        448       \n",
            "_________________________________________________________________\n",
            "max_pooling2d (MaxPooling2D) (None, 128, 2, 64)        0         \n",
            "_________________________________________________________________\n",
            "reshape (Reshape)            (None, 128, 128)          0         \n",
            "_________________________________________________________________\n",
            "bidirectional (Bidirectional (None, 128, 256)          198144    \n",
            "_________________________________________________________________\n",
            "dense (Dense)                (None, 128, 256)          65792     \n",
            "_________________________________________________________________\n",
            "bidirectional_1 (Bidirection (None, 128, 256)          296448    \n",
            "_________________________________________________________________\n",
            "dense_1 (Dense)              (None, 128, 98)           25186     \n",
            "=================================================================\n",
            "Total params: 824,050\n",
            "Trainable params: 822,770\n",
            "Non-trainable params: 1,280\n",
            "_________________________________________________________________\n"
          ],
          "name": "stdout"
        }
      ]
    },
    {
      "cell_type": "markdown",
      "metadata": {
        "colab_type": "text",
        "id": "T1fnz0Eugqru"
      },
      "source": [
        "## 3 Training"
      ]
    },
    {
      "cell_type": "markdown",
      "metadata": {
        "colab_type": "text",
        "id": "w1mLOcqYgsO-"
      },
      "source": [
        "The training process is similar to the *fit()* of the Keras. After training, the information (epochs and minimum loss) is save."
      ]
    },
    {
      "cell_type": "code",
      "metadata": {
        "colab_type": "code",
        "id": "2P6MSoxCISlD",
        "outputId": "2df36b21-9d83-4c19-fe75-1877f629d3fa",
        "colab": {
          "base_uri": "https://localhost:8080/",
          "height": 1000
        }
      },
      "source": [
        "# to calculate total and average time per epoch\n",
        "start_time = datetime.datetime.now()\n",
        "\n",
        "h = model.fit(x=dtgen.next_train_batch(),\n",
        "              epochs=epochs,\n",
        "              steps_per_epoch=dtgen.steps['train'],\n",
        "              validation_data=dtgen.next_valid_batch(),\n",
        "              validation_steps=dtgen.steps['valid'],\n",
        "              callbacks=callbacks,\n",
        "              shuffle=True,\n",
        "              verbose=1)\n",
        "\n",
        "total_time = datetime.datetime.now() - start_time\n",
        "\n",
        "loss = h.history['loss']\n",
        "val_loss = h.history['val_loss']\n",
        "\n",
        "min_val_loss = min(val_loss)\n",
        "min_val_loss_i = val_loss.index(min_val_loss)\n",
        "\n",
        "time_epoch = (total_time / len(loss))\n",
        "total_item = (dtgen.size['train'] + dtgen.size['valid'])\n",
        "\n",
        "t_corpus = \"\\n\".join([\n",
        "    f\"Total train images:      {dtgen.size['train']}\",\n",
        "    f\"Total validation images: {dtgen.size['valid']}\",\n",
        "    f\"Batch:                   {dtgen.batch_size}\\n\",\n",
        "    f\"Total time:              {total_time}\",\n",
        "    f\"Time per epoch:          {time_epoch}\",\n",
        "    f\"Time per item:           {time_epoch / total_item}\\n\",\n",
        "    f\"Total epochs:            {len(loss)}\",\n",
        "    f\"Best epoch               {min_val_loss_i + 1}\\n\",\n",
        "    f\"Training loss:           {loss[min_val_loss_i]:.8f}\",\n",
        "    f\"Validation loss:         {min_val_loss:.8f}\"\n",
        "])\n",
        "\n",
        "with open(os.path.join(output_path, \"train.txt\"), \"w\") as lg:\n",
        "    lg.write(t_corpus)\n",
        "    print(t_corpus)"
      ],
      "execution_count": 0,
      "outputs": [
        {
          "output_type": "stream",
          "text": [
            "Train for 336 steps, validate for 47 steps\n",
            "Epoch 1/1000\n",
            "335/336 [============================>.] - ETA: 0s - loss: 137.9633\n",
            "Epoch 00001: val_loss improved from inf to 123.13102, saving model to ../output/iam/flor/checkpoint_weights.hdf5\n",
            "336/336 [==============================] - 87s 260ms/step - loss: 137.8443 - val_loss: 123.1310\n",
            "Epoch 2/1000\n",
            "335/336 [============================>.] - ETA: 0s - loss: 94.2353\n",
            "Epoch 00002: val_loss improved from 123.13102 to 81.93496, saving model to ../output/iam/flor/checkpoint_weights.hdf5\n",
            "336/336 [==============================] - 69s 206ms/step - loss: 94.1436 - val_loss: 81.9350\n",
            "Epoch 3/1000\n",
            "335/336 [============================>.] - ETA: 0s - loss: 68.6377\n",
            "Epoch 00003: val_loss improved from 81.93496 to 60.04024, saving model to ../output/iam/flor/checkpoint_weights.hdf5\n",
            "336/336 [==============================] - 70s 208ms/step - loss: 68.5289 - val_loss: 60.0402\n",
            "Epoch 4/1000\n",
            "335/336 [============================>.] - ETA: 0s - loss: 51.5287\n",
            "Epoch 00004: val_loss improved from 60.04024 to 43.33965, saving model to ../output/iam/flor/checkpoint_weights.hdf5\n",
            "336/336 [==============================] - 70s 208ms/step - loss: 51.4481 - val_loss: 43.3396\n",
            "Epoch 5/1000\n",
            "335/336 [============================>.] - ETA: 0s - loss: 41.0812\n",
            "Epoch 00005: val_loss improved from 43.33965 to 37.35511, saving model to ../output/iam/flor/checkpoint_weights.hdf5\n",
            "336/336 [==============================] - 69s 206ms/step - loss: 41.0214 - val_loss: 37.3551\n",
            "Epoch 6/1000\n",
            "335/336 [============================>.] - ETA: 0s - loss: 34.6424\n",
            "Epoch 00006: val_loss improved from 37.35511 to 31.56147, saving model to ../output/iam/flor/checkpoint_weights.hdf5\n",
            "336/336 [==============================] - 69s 205ms/step - loss: 34.5834 - val_loss: 31.5615\n",
            "Epoch 7/1000\n",
            "335/336 [============================>.] - ETA: 0s - loss: 31.0536\n",
            "Epoch 00007: val_loss improved from 31.56147 to 29.59964, saving model to ../output/iam/flor/checkpoint_weights.hdf5\n",
            "336/336 [==============================] - 69s 206ms/step - loss: 31.0062 - val_loss: 29.5996\n",
            "Epoch 8/1000\n",
            "335/336 [============================>.] - ETA: 0s - loss: 28.3076\n",
            "Epoch 00008: val_loss improved from 29.59964 to 26.71426, saving model to ../output/iam/flor/checkpoint_weights.hdf5\n",
            "336/336 [==============================] - 69s 205ms/step - loss: 28.2520 - val_loss: 26.7143\n",
            "Epoch 9/1000\n",
            "335/336 [============================>.] - ETA: 0s - loss: 26.1130\n",
            "Epoch 00009: val_loss improved from 26.71426 to 24.32937, saving model to ../output/iam/flor/checkpoint_weights.hdf5\n",
            "336/336 [==============================] - 70s 208ms/step - loss: 26.0656 - val_loss: 24.3294\n",
            "Epoch 10/1000\n",
            "335/336 [============================>.] - ETA: 0s - loss: 24.6041\n",
            "Epoch 00010: val_loss improved from 24.32937 to 22.92725, saving model to ../output/iam/flor/checkpoint_weights.hdf5\n",
            "336/336 [==============================] - 69s 205ms/step - loss: 24.5632 - val_loss: 22.9272\n",
            "Epoch 11/1000\n",
            "335/336 [============================>.] - ETA: 0s - loss: 22.8169\n",
            "Epoch 00011: val_loss improved from 22.92725 to 22.18491, saving model to ../output/iam/flor/checkpoint_weights.hdf5\n",
            "336/336 [==============================] - 69s 207ms/step - loss: 22.7779 - val_loss: 22.1849\n",
            "Epoch 12/1000\n",
            "335/336 [============================>.] - ETA: 0s - loss: 21.8961\n",
            "Epoch 00012: val_loss improved from 22.18491 to 20.42315, saving model to ../output/iam/flor/checkpoint_weights.hdf5\n",
            "336/336 [==============================] - 69s 205ms/step - loss: 21.8687 - val_loss: 20.4232\n",
            "Epoch 13/1000\n",
            "335/336 [============================>.] - ETA: 0s - loss: 20.9201\n",
            "Epoch 00013: val_loss improved from 20.42315 to 20.30516, saving model to ../output/iam/flor/checkpoint_weights.hdf5\n",
            "336/336 [==============================] - 69s 205ms/step - loss: 20.8853 - val_loss: 20.3052\n",
            "Epoch 14/1000\n",
            "335/336 [============================>.] - ETA: 0s - loss: 20.1666\n",
            "Epoch 00014: val_loss did not improve from 20.30516\n",
            "336/336 [==============================] - 69s 204ms/step - loss: 20.1510 - val_loss: 20.4351\n",
            "Epoch 15/1000\n",
            "335/336 [============================>.] - ETA: 0s - loss: 19.0450\n",
            "Epoch 00015: val_loss improved from 20.30516 to 18.56906, saving model to ../output/iam/flor/checkpoint_weights.hdf5\n",
            "336/336 [==============================] - 69s 205ms/step - loss: 19.0233 - val_loss: 18.5691\n",
            "Epoch 16/1000\n",
            "335/336 [============================>.] - ETA: 0s - loss: 18.8695\n",
            "Epoch 00016: val_loss did not improve from 18.56906\n",
            "336/336 [==============================] - 68s 203ms/step - loss: 18.8388 - val_loss: 18.9343\n",
            "Epoch 17/1000\n",
            "335/336 [============================>.] - ETA: 0s - loss: 18.2882\n",
            "Epoch 00017: val_loss improved from 18.56906 to 18.48258, saving model to ../output/iam/flor/checkpoint_weights.hdf5\n",
            "336/336 [==============================] - 69s 205ms/step - loss: 18.2568 - val_loss: 18.4826\n",
            "Epoch 18/1000\n",
            "335/336 [============================>.] - ETA: 0s - loss: 17.5301\n",
            "Epoch 00018: val_loss improved from 18.48258 to 16.90119, saving model to ../output/iam/flor/checkpoint_weights.hdf5\n",
            "336/336 [==============================] - 68s 204ms/step - loss: 17.5074 - val_loss: 16.9012\n",
            "Epoch 19/1000\n",
            "335/336 [============================>.] - ETA: 0s - loss: 16.9394\n",
            "Epoch 00019: val_loss improved from 16.90119 to 16.86259, saving model to ../output/iam/flor/checkpoint_weights.hdf5\n",
            "336/336 [==============================] - 68s 202ms/step - loss: 16.9252 - val_loss: 16.8626\n",
            "Epoch 20/1000\n",
            "335/336 [============================>.] - ETA: 0s - loss: 16.7593\n",
            "Epoch 00020: val_loss improved from 16.86259 to 15.65126, saving model to ../output/iam/flor/checkpoint_weights.hdf5\n",
            "336/336 [==============================] - 68s 203ms/step - loss: 16.7335 - val_loss: 15.6513\n",
            "Epoch 21/1000\n",
            "335/336 [============================>.] - ETA: 0s - loss: 15.9170\n",
            "Epoch 00021: val_loss improved from 15.65126 to 15.02921, saving model to ../output/iam/flor/checkpoint_weights.hdf5\n",
            "336/336 [==============================] - 68s 203ms/step - loss: 15.8908 - val_loss: 15.0292\n",
            "Epoch 22/1000\n",
            "335/336 [============================>.] - ETA: 0s - loss: 15.9551\n",
            "Epoch 00022: val_loss did not improve from 15.02921\n",
            "336/336 [==============================] - 68s 201ms/step - loss: 15.9274 - val_loss: 15.4296\n",
            "Epoch 23/1000\n",
            "335/336 [============================>.] - ETA: 0s - loss: 15.5103\n",
            "Epoch 00023: val_loss did not improve from 15.02921\n",
            "336/336 [==============================] - 68s 201ms/step - loss: 15.4857 - val_loss: 18.2025\n",
            "Epoch 24/1000\n",
            "335/336 [============================>.] - ETA: 0s - loss: 15.2776\n",
            "Epoch 00024: val_loss did not improve from 15.02921\n",
            "336/336 [==============================] - 67s 200ms/step - loss: 15.2664 - val_loss: 15.2382\n",
            "Epoch 25/1000\n",
            "335/336 [============================>.] - ETA: 0s - loss: 15.0005\n",
            "Epoch 00025: val_loss improved from 15.02921 to 14.86068, saving model to ../output/iam/flor/checkpoint_weights.hdf5\n",
            "336/336 [==============================] - 68s 201ms/step - loss: 14.9753 - val_loss: 14.8607\n",
            "Epoch 26/1000\n",
            "335/336 [============================>.] - ETA: 0s - loss: 14.6023\n",
            "Epoch 00026: val_loss improved from 14.86068 to 13.99689, saving model to ../output/iam/flor/checkpoint_weights.hdf5\n",
            "336/336 [==============================] - 68s 202ms/step - loss: 14.5731 - val_loss: 13.9969\n",
            "Epoch 27/1000\n",
            "335/336 [============================>.] - ETA: 0s - loss: 14.1788\n",
            "Epoch 00027: val_loss did not improve from 13.99689\n",
            "336/336 [==============================] - 71s 210ms/step - loss: 14.1538 - val_loss: 14.2247\n",
            "Epoch 28/1000\n",
            "335/336 [============================>.] - ETA: 0s - loss: 14.0274\n",
            "Epoch 00028: val_loss did not improve from 13.99689\n",
            "336/336 [==============================] - 68s 204ms/step - loss: 14.0116 - val_loss: 14.7824\n",
            "Epoch 29/1000\n",
            "335/336 [============================>.] - ETA: 0s - loss: 13.7586\n",
            "Epoch 00029: val_loss did not improve from 13.99689\n",
            "336/336 [==============================] - 68s 202ms/step - loss: 13.7670 - val_loss: 14.1195\n",
            "Epoch 30/1000\n",
            "335/336 [============================>.] - ETA: 0s - loss: 13.6927\n",
            "Epoch 00030: val_loss did not improve from 13.99689\n",
            "336/336 [==============================] - 68s 202ms/step - loss: 13.6699 - val_loss: 14.0430\n",
            "Epoch 31/1000\n",
            "335/336 [============================>.] - ETA: 0s - loss: 13.2852\n",
            "Epoch 00031: val_loss improved from 13.99689 to 13.43543, saving model to ../output/iam/flor/checkpoint_weights.hdf5\n",
            "336/336 [==============================] - 69s 204ms/step - loss: 13.2596 - val_loss: 13.4354\n",
            "Epoch 32/1000\n",
            "335/336 [============================>.] - ETA: 0s - loss: 13.2117\n",
            "Epoch 00032: val_loss did not improve from 13.43543\n",
            "336/336 [==============================] - 68s 204ms/step - loss: 13.1923 - val_loss: 13.7122\n",
            "Epoch 33/1000\n",
            "335/336 [============================>.] - ETA: 0s - loss: 12.9733\n",
            "Epoch 00033: val_loss did not improve from 13.43543\n",
            "336/336 [==============================] - 69s 204ms/step - loss: 12.9591 - val_loss: 13.4423\n",
            "Epoch 34/1000\n",
            "335/336 [============================>.] - ETA: 0s - loss: 12.8551\n",
            "Epoch 00034: val_loss improved from 13.43543 to 13.39481, saving model to ../output/iam/flor/checkpoint_weights.hdf5\n",
            "336/336 [==============================] - 69s 205ms/step - loss: 12.8305 - val_loss: 13.3948\n",
            "Epoch 35/1000\n",
            "335/336 [============================>.] - ETA: 0s - loss: 12.7317\n",
            "Epoch 00035: val_loss did not improve from 13.39481\n",
            "336/336 [==============================] - 68s 203ms/step - loss: 12.7235 - val_loss: 13.7451\n",
            "Epoch 36/1000\n",
            "335/336 [============================>.] - ETA: 0s - loss: 12.3732\n",
            "Epoch 00036: val_loss improved from 13.39481 to 13.30726, saving model to ../output/iam/flor/checkpoint_weights.hdf5\n",
            "336/336 [==============================] - 69s 205ms/step - loss: 12.3525 - val_loss: 13.3073\n",
            "Epoch 37/1000\n",
            "335/336 [============================>.] - ETA: 0s - loss: 12.0375\n",
            "Epoch 00037: val_loss did not improve from 13.30726\n",
            "336/336 [==============================] - 68s 203ms/step - loss: 12.0151 - val_loss: 13.6311\n",
            "Epoch 38/1000\n",
            "335/336 [============================>.] - ETA: 0s - loss: 12.2193\n",
            "Epoch 00038: val_loss improved from 13.30726 to 12.98784, saving model to ../output/iam/flor/checkpoint_weights.hdf5\n",
            "336/336 [==============================] - 68s 204ms/step - loss: 12.2016 - val_loss: 12.9878\n",
            "Epoch 39/1000\n",
            "335/336 [============================>.] - ETA: 0s - loss: 11.8343\n",
            "Epoch 00039: val_loss did not improve from 12.98784\n",
            "336/336 [==============================] - 68s 203ms/step - loss: 11.8108 - val_loss: 13.3107\n",
            "Epoch 40/1000\n",
            "335/336 [============================>.] - ETA: 0s - loss: 11.9313\n",
            "Epoch 00040: val_loss did not improve from 12.98784\n",
            "336/336 [==============================] - 69s 205ms/step - loss: 11.9116 - val_loss: 13.3420\n",
            "Epoch 41/1000\n",
            "335/336 [============================>.] - ETA: 0s - loss: 11.7687\n",
            "Epoch 00041: val_loss improved from 12.98784 to 12.57308, saving model to ../output/iam/flor/checkpoint_weights.hdf5\n",
            "336/336 [==============================] - 69s 204ms/step - loss: 11.7534 - val_loss: 12.5731\n",
            "Epoch 42/1000\n",
            "335/336 [============================>.] - ETA: 0s - loss: 11.7698\n",
            "Epoch 00042: val_loss did not improve from 12.57308\n",
            "336/336 [==============================] - 68s 203ms/step - loss: 11.7506 - val_loss: 13.3323\n",
            "Epoch 43/1000\n",
            "335/336 [============================>.] - ETA: 0s - loss: 11.4251\n",
            "Epoch 00043: val_loss improved from 12.57308 to 12.47839, saving model to ../output/iam/flor/checkpoint_weights.hdf5\n",
            "336/336 [==============================] - 69s 205ms/step - loss: 11.4002 - val_loss: 12.4784\n",
            "Epoch 44/1000\n",
            "335/336 [============================>.] - ETA: 0s - loss: 11.1337\n",
            "Epoch 00044: val_loss did not improve from 12.47839\n",
            "336/336 [==============================] - 69s 204ms/step - loss: 11.1091 - val_loss: 12.8309\n",
            "Epoch 45/1000\n",
            "335/336 [============================>.] - ETA: 0s - loss: 11.0493\n",
            "Epoch 00045: val_loss improved from 12.47839 to 12.41375, saving model to ../output/iam/flor/checkpoint_weights.hdf5\n",
            "336/336 [==============================] - 69s 204ms/step - loss: 11.0400 - val_loss: 12.4137\n",
            "Epoch 46/1000\n",
            "335/336 [============================>.] - ETA: 0s - loss: 11.1172\n",
            "Epoch 00046: val_loss improved from 12.41375 to 12.16476, saving model to ../output/iam/flor/checkpoint_weights.hdf5\n",
            "336/336 [==============================] - 68s 202ms/step - loss: 11.0979 - val_loss: 12.1648\n",
            "Epoch 47/1000\n",
            "335/336 [============================>.] - ETA: 0s - loss: 11.0097\n",
            "Epoch 00047: val_loss did not improve from 12.16476\n",
            "336/336 [==============================] - 68s 203ms/step - loss: 10.9906 - val_loss: 12.4431\n",
            "Epoch 48/1000\n",
            "335/336 [============================>.] - ETA: 0s - loss: 10.7396\n",
            "Epoch 00048: val_loss improved from 12.16476 to 12.11261, saving model to ../output/iam/flor/checkpoint_weights.hdf5\n",
            "336/336 [==============================] - 68s 203ms/step - loss: 10.7206 - val_loss: 12.1126\n",
            "Epoch 49/1000\n",
            "335/336 [============================>.] - ETA: 0s - loss: 10.4747\n",
            "Epoch 00049: val_loss did not improve from 12.11261\n",
            "336/336 [==============================] - 68s 202ms/step - loss: 10.4535 - val_loss: 12.5295\n",
            "Epoch 50/1000\n",
            "335/336 [============================>.] - ETA: 0s - loss: 10.5042\n",
            "Epoch 00050: val_loss did not improve from 12.11261\n",
            "336/336 [==============================] - 68s 203ms/step - loss: 10.4971 - val_loss: 12.9281\n",
            "Epoch 51/1000\n",
            "335/336 [============================>.] - ETA: 0s - loss: 10.2310\n",
            "Epoch 00051: val_loss did not improve from 12.11261\n",
            "336/336 [==============================] - 68s 202ms/step - loss: 10.2146 - val_loss: 12.1309\n",
            "Epoch 52/1000\n",
            "335/336 [============================>.] - ETA: 0s - loss: 10.2412\n",
            "Epoch 00052: val_loss did not improve from 12.11261\n",
            "336/336 [==============================] - 68s 202ms/step - loss: 10.2277 - val_loss: 12.8223\n",
            "Epoch 53/1000\n",
            "335/336 [============================>.] - ETA: 0s - loss: 10.4606\n",
            "Epoch 00053: val_loss did not improve from 12.11261\n",
            "336/336 [==============================] - 67s 200ms/step - loss: 10.4401 - val_loss: 12.1800\n",
            "Epoch 54/1000\n",
            "335/336 [============================>.] - ETA: 0s - loss: 10.1521\n",
            "Epoch 00054: val_loss did not improve from 12.11261\n",
            "336/336 [==============================] - 68s 201ms/step - loss: 10.1301 - val_loss: 12.7048\n",
            "Epoch 55/1000\n",
            "335/336 [============================>.] - ETA: 0s - loss: 9.9439\n",
            "Epoch 00055: val_loss improved from 12.11261 to 11.77589, saving model to ../output/iam/flor/checkpoint_weights.hdf5\n",
            "336/336 [==============================] - 68s 202ms/step - loss: 9.9251 - val_loss: 11.7759\n",
            "Epoch 56/1000\n",
            "335/336 [============================>.] - ETA: 0s - loss: 10.0418\n",
            "Epoch 00056: val_loss did not improve from 11.77589\n",
            "336/336 [==============================] - 67s 201ms/step - loss: 10.0204 - val_loss: 12.4493\n",
            "Epoch 57/1000\n",
            "335/336 [============================>.] - ETA: 0s - loss: 9.9234\n",
            "Epoch 00057: val_loss improved from 11.77589 to 11.76672, saving model to ../output/iam/flor/checkpoint_weights.hdf5\n",
            "336/336 [==============================] - 68s 201ms/step - loss: 9.9065 - val_loss: 11.7667\n",
            "Epoch 58/1000\n",
            "335/336 [============================>.] - ETA: 0s - loss: 9.6000\n",
            "Epoch 00058: val_loss improved from 11.76672 to 11.30424, saving model to ../output/iam/flor/checkpoint_weights.hdf5\n",
            "336/336 [==============================] - 68s 202ms/step - loss: 9.5826 - val_loss: 11.3042\n",
            "Epoch 59/1000\n",
            "335/336 [============================>.] - ETA: 0s - loss: 9.6518\n",
            "Epoch 00059: val_loss did not improve from 11.30424\n",
            "336/336 [==============================] - 67s 200ms/step - loss: 9.6356 - val_loss: 11.9917\n",
            "Epoch 60/1000\n",
            "335/336 [============================>.] - ETA: 0s - loss: 9.6485\n",
            "Epoch 00060: val_loss did not improve from 11.30424\n",
            "336/336 [==============================] - 67s 200ms/step - loss: 9.6331 - val_loss: 12.2430\n",
            "Epoch 61/1000\n",
            "335/336 [============================>.] - ETA: 0s - loss: 9.4209\n",
            "Epoch 00061: val_loss did not improve from 11.30424\n",
            "336/336 [==============================] - 67s 200ms/step - loss: 9.3970 - val_loss: 11.6389\n",
            "Epoch 62/1000\n",
            "335/336 [============================>.] - ETA: 0s - loss: 9.6101\n",
            "Epoch 00062: val_loss did not improve from 11.30424\n",
            "336/336 [==============================] - 67s 199ms/step - loss: 9.5950 - val_loss: 11.7095\n",
            "Epoch 63/1000\n",
            "335/336 [============================>.] - ETA: 0s - loss: 9.3381\n",
            "Epoch 00063: val_loss did not improve from 11.30424\n",
            "336/336 [==============================] - 67s 201ms/step - loss: 9.3250 - val_loss: 12.4679\n",
            "Epoch 64/1000\n",
            "335/336 [============================>.] - ETA: 0s - loss: 9.1586\n",
            "Epoch 00064: val_loss did not improve from 11.30424\n",
            "336/336 [==============================] - 67s 200ms/step - loss: 9.1401 - val_loss: 12.0165\n",
            "Epoch 65/1000\n",
            "335/336 [============================>.] - ETA: 0s - loss: 9.2685\n",
            "Epoch 00065: val_loss did not improve from 11.30424\n",
            "336/336 [==============================] - 67s 201ms/step - loss: 9.2546 - val_loss: 12.4527\n",
            "Epoch 66/1000\n",
            "335/336 [============================>.] - ETA: 0s - loss: 9.2111\n",
            "Epoch 00066: val_loss did not improve from 11.30424\n",
            "336/336 [==============================] - 67s 200ms/step - loss: 9.1907 - val_loss: 12.3463\n",
            "Epoch 67/1000\n",
            "335/336 [============================>.] - ETA: 0s - loss: 9.1882\n",
            "Epoch 00067: val_loss did not improve from 11.30424\n",
            "336/336 [==============================] - 67s 201ms/step - loss: 9.1707 - val_loss: 11.8908\n",
            "Epoch 68/1000\n",
            "335/336 [============================>.] - ETA: 0s - loss: 9.0988\n",
            "Epoch 00068: val_loss did not improve from 11.30424\n",
            "336/336 [==============================] - 68s 201ms/step - loss: 9.0812 - val_loss: 12.1676\n",
            "Epoch 69/1000\n",
            "335/336 [============================>.] - ETA: 0s - loss: 9.1077\n",
            "Epoch 00069: val_loss did not improve from 11.30424\n",
            "336/336 [==============================] - 67s 200ms/step - loss: 9.1003 - val_loss: 11.8965\n",
            "Epoch 70/1000\n",
            "335/336 [============================>.] - ETA: 0s - loss: 9.0366\n",
            "Epoch 00070: val_loss did not improve from 11.30424\n",
            "336/336 [==============================] - 67s 199ms/step - loss: 9.0202 - val_loss: 11.7864\n",
            "Epoch 71/1000\n",
            "335/336 [============================>.] - ETA: 0s - loss: 8.8600\n",
            "Epoch 00071: val_loss did not improve from 11.30424\n",
            "336/336 [==============================] - 67s 201ms/step - loss: 8.8406 - val_loss: 11.6797\n",
            "Epoch 72/1000\n",
            "335/336 [============================>.] - ETA: 0s - loss: 8.7946\n",
            "Epoch 00072: val_loss did not improve from 11.30424\n",
            "336/336 [==============================] - 67s 200ms/step - loss: 8.7746 - val_loss: 11.8533\n",
            "Epoch 73/1000\n",
            "335/336 [============================>.] - ETA: 0s - loss: 9.0998\n",
            "Epoch 00073: val_loss did not improve from 11.30424\n",
            "\n",
            "Epoch 00073: ReduceLROnPlateau reducing learning rate to 0.00020000000949949026.\n",
            "336/336 [==============================] - 67s 200ms/step - loss: 9.0955 - val_loss: 12.5940\n",
            "Epoch 74/1000\n",
            "335/336 [============================>.] - ETA: 0s - loss: 8.2627\n",
            "Epoch 00074: val_loss improved from 11.30424 to 10.82718, saving model to ../output/iam/flor/checkpoint_weights.hdf5\n",
            "336/336 [==============================] - 67s 200ms/step - loss: 8.2500 - val_loss: 10.8272\n",
            "Epoch 75/1000\n",
            "335/336 [============================>.] - ETA: 0s - loss: 7.8385\n",
            "Epoch 00075: val_loss improved from 10.82718 to 10.55768, saving model to ../output/iam/flor/checkpoint_weights.hdf5\n",
            "336/336 [==============================] - 67s 200ms/step - loss: 7.8237 - val_loss: 10.5577\n",
            "Epoch 76/1000\n",
            "335/336 [============================>.] - ETA: 0s - loss: 7.3632\n",
            "Epoch 00076: val_loss improved from 10.55768 to 10.35285, saving model to ../output/iam/flor/checkpoint_weights.hdf5\n",
            "336/336 [==============================] - 68s 201ms/step - loss: 7.3515 - val_loss: 10.3528\n",
            "Epoch 77/1000\n",
            "335/336 [============================>.] - ETA: 0s - loss: 7.2398\n",
            "Epoch 00077: val_loss did not improve from 10.35285\n",
            "336/336 [==============================] - 67s 199ms/step - loss: 7.2349 - val_loss: 10.3629\n",
            "Epoch 78/1000\n",
            "335/336 [============================>.] - ETA: 0s - loss: 7.0515\n",
            "Epoch 00078: val_loss did not improve from 10.35285\n",
            "336/336 [==============================] - 67s 199ms/step - loss: 7.0425 - val_loss: 10.4181\n",
            "Epoch 79/1000\n",
            "335/336 [============================>.] - ETA: 0s - loss: 7.0196\n",
            "Epoch 00079: val_loss improved from 10.35285 to 10.30925, saving model to ../output/iam/flor/checkpoint_weights.hdf5\n",
            "336/336 [==============================] - 67s 200ms/step - loss: 7.0061 - val_loss: 10.3093\n",
            "Epoch 80/1000\n",
            "335/336 [============================>.] - ETA: 0s - loss: 6.9286\n",
            "Epoch 00080: val_loss did not improve from 10.30925\n",
            "336/336 [==============================] - 67s 200ms/step - loss: 6.9194 - val_loss: 10.4107\n",
            "Epoch 81/1000\n",
            "335/336 [============================>.] - ETA: 0s - loss: 6.8170\n",
            "Epoch 00081: val_loss improved from 10.30925 to 10.18094, saving model to ../output/iam/flor/checkpoint_weights.hdf5\n",
            "336/336 [==============================] - 68s 202ms/step - loss: 6.8094 - val_loss: 10.1809\n",
            "Epoch 82/1000\n",
            "335/336 [============================>.] - ETA: 0s - loss: 6.8146\n",
            "Epoch 00082: val_loss did not improve from 10.18094\n",
            "336/336 [==============================] - 67s 200ms/step - loss: 6.8034 - val_loss: 10.2063\n",
            "Epoch 83/1000\n",
            "335/336 [============================>.] - ETA: 0s - loss: 6.7339\n",
            "Epoch 00083: val_loss improved from 10.18094 to 10.16090, saving model to ../output/iam/flor/checkpoint_weights.hdf5\n",
            "336/336 [==============================] - 67s 200ms/step - loss: 6.7211 - val_loss: 10.1609\n",
            "Epoch 84/1000\n",
            "335/336 [============================>.] - ETA: 0s - loss: 6.9744\n",
            "Epoch 00084: val_loss did not improve from 10.16090\n",
            "336/336 [==============================] - 67s 200ms/step - loss: 6.9575 - val_loss: 10.2885\n",
            "Epoch 85/1000\n",
            "335/336 [============================>.] - ETA: 0s - loss: 6.6763\n",
            "Epoch 00085: val_loss did not improve from 10.16090\n",
            "336/336 [==============================] - 67s 200ms/step - loss: 6.6732 - val_loss: 10.1862\n",
            "Epoch 86/1000\n",
            "335/336 [============================>.] - ETA: 0s - loss: 6.6314\n",
            "Epoch 00086: val_loss did not improve from 10.16090\n",
            "336/336 [==============================] - 68s 202ms/step - loss: 6.6169 - val_loss: 10.2150\n",
            "Epoch 87/1000\n",
            "335/336 [============================>.] - ETA: 0s - loss: 6.4605\n",
            "Epoch 00087: val_loss improved from 10.16090 to 10.15070, saving model to ../output/iam/flor/checkpoint_weights.hdf5\n",
            "336/336 [==============================] - 67s 200ms/step - loss: 6.4470 - val_loss: 10.1507\n",
            "Epoch 88/1000\n",
            "335/336 [============================>.] - ETA: 0s - loss: 6.5178\n",
            "Epoch 00088: val_loss improved from 10.15070 to 10.04959, saving model to ../output/iam/flor/checkpoint_weights.hdf5\n",
            "336/336 [==============================] - 67s 200ms/step - loss: 6.5061 - val_loss: 10.0496\n",
            "Epoch 89/1000\n",
            "335/336 [============================>.] - ETA: 0s - loss: 6.5141\n",
            "Epoch 00089: val_loss did not improve from 10.04959\n",
            "336/336 [==============================] - 67s 199ms/step - loss: 6.5070 - val_loss: 10.2107\n",
            "Epoch 90/1000\n",
            "335/336 [============================>.] - ETA: 0s - loss: 6.3630\n",
            "Epoch 00090: val_loss did not improve from 10.04959\n",
            "336/336 [==============================] - 67s 199ms/step - loss: 6.3547 - val_loss: 10.0798\n",
            "Epoch 91/1000\n",
            "335/336 [============================>.] - ETA: 0s - loss: 6.2890\n",
            "Epoch 00091: val_loss improved from 10.04959 to 9.97835, saving model to ../output/iam/flor/checkpoint_weights.hdf5\n",
            "336/336 [==============================] - 68s 202ms/step - loss: 6.2789 - val_loss: 9.9783\n",
            "Epoch 92/1000\n",
            "335/336 [============================>.] - ETA: 0s - loss: 6.2825\n",
            "Epoch 00092: val_loss did not improve from 9.97835\n",
            "336/336 [==============================] - 69s 206ms/step - loss: 6.2703 - val_loss: 10.0539\n",
            "Epoch 93/1000\n",
            "335/336 [============================>.] - ETA: 0s - loss: 6.3126\n",
            "Epoch 00093: val_loss did not improve from 9.97835\n",
            "336/336 [==============================] - 71s 211ms/step - loss: 6.2998 - val_loss: 10.1696\n",
            "Epoch 94/1000\n",
            "335/336 [============================>.] - ETA: 0s - loss: 6.2745\n",
            "Epoch 00094: val_loss did not improve from 9.97835\n",
            "336/336 [==============================] - 70s 209ms/step - loss: 6.2631 - val_loss: 10.1617\n",
            "Epoch 95/1000\n",
            "335/336 [============================>.] - ETA: 0s - loss: 6.2236\n",
            "Epoch 00095: val_loss did not improve from 9.97835\n",
            "336/336 [==============================] - 70s 208ms/step - loss: 6.2169 - val_loss: 10.1598\n",
            "Epoch 96/1000\n",
            "335/336 [============================>.] - ETA: 0s - loss: 6.2279\n",
            "Epoch 00096: val_loss did not improve from 9.97835\n",
            "336/336 [==============================] - 70s 209ms/step - loss: 6.2142 - val_loss: 10.0502\n",
            "Epoch 97/1000\n",
            "335/336 [============================>.] - ETA: 0s - loss: 5.9932\n",
            "Epoch 00097: val_loss did not improve from 9.97835\n",
            "336/336 [==============================] - 70s 209ms/step - loss: 5.9807 - val_loss: 10.0313\n",
            "Epoch 98/1000\n",
            "335/336 [============================>.] - ETA: 0s - loss: 6.1931\n",
            "Epoch 00098: val_loss did not improve from 9.97835\n",
            "336/336 [==============================] - 70s 209ms/step - loss: 6.1805 - val_loss: 10.0404\n",
            "Epoch 99/1000\n",
            "335/336 [============================>.] - ETA: 0s - loss: 5.9937\n",
            "Epoch 00099: val_loss improved from 9.97835 to 9.93084, saving model to ../output/iam/flor/checkpoint_weights.hdf5\n",
            "336/336 [==============================] - 70s 208ms/step - loss: 5.9832 - val_loss: 9.9308\n",
            "Epoch 100/1000\n",
            "335/336 [============================>.] - ETA: 0s - loss: 5.9382\n",
            "Epoch 00100: val_loss did not improve from 9.93084\n",
            "336/336 [==============================] - 68s 203ms/step - loss: 5.9288 - val_loss: 10.0472\n",
            "Epoch 101/1000\n",
            "335/336 [============================>.] - ETA: 0s - loss: 5.9712\n",
            "Epoch 00101: val_loss did not improve from 9.93084\n",
            "336/336 [==============================] - 68s 203ms/step - loss: 5.9589 - val_loss: 10.1935\n",
            "Epoch 102/1000\n",
            "335/336 [============================>.] - ETA: 0s - loss: 5.8717\n",
            "Epoch 00102: val_loss did not improve from 9.93084\n",
            "336/336 [==============================] - 68s 203ms/step - loss: 5.8587 - val_loss: 10.0826\n",
            "Epoch 103/1000\n",
            "335/336 [============================>.] - ETA: 0s - loss: 5.8770\n",
            "Epoch 00103: val_loss did not improve from 9.93084\n",
            "336/336 [==============================] - 70s 208ms/step - loss: 5.8654 - val_loss: 10.1167\n",
            "Epoch 104/1000\n",
            "335/336 [============================>.] - ETA: 0s - loss: 5.7723\n",
            "Epoch 00104: val_loss did not improve from 9.93084\n",
            "336/336 [==============================] - 69s 205ms/step - loss: 5.7599 - val_loss: 10.0414\n",
            "Epoch 105/1000\n",
            "335/336 [============================>.] - ETA: 0s - loss: 5.8924\n",
            "Epoch 00105: val_loss did not improve from 9.93084\n",
            "336/336 [==============================] - 70s 208ms/step - loss: 5.8796 - val_loss: 9.9340\n",
            "Epoch 106/1000\n",
            "335/336 [============================>.] - ETA: 0s - loss: 5.8575\n",
            "Epoch 00106: val_loss did not improve from 9.93084\n",
            "336/336 [==============================] - 70s 209ms/step - loss: 5.8482 - val_loss: 10.1241\n",
            "Epoch 107/1000\n",
            "335/336 [============================>.] - ETA: 0s - loss: 5.7893\n",
            "Epoch 00107: val_loss did not improve from 9.93084\n",
            "336/336 [==============================] - 69s 206ms/step - loss: 5.7808 - val_loss: 10.0150\n",
            "Epoch 108/1000\n",
            "335/336 [============================>.] - ETA: 0s - loss: 5.9463\n",
            "Epoch 00108: val_loss improved from 9.93084 to 9.91394, saving model to ../output/iam/flor/checkpoint_weights.hdf5\n",
            "336/336 [==============================] - 69s 206ms/step - loss: 5.9341 - val_loss: 9.9139\n",
            "Epoch 109/1000\n",
            "335/336 [============================>.] - ETA: 0s - loss: 5.6719\n",
            "Epoch 00109: val_loss did not improve from 9.91394\n",
            "336/336 [==============================] - 69s 205ms/step - loss: 5.6606 - val_loss: 10.1009\n",
            "Epoch 110/1000\n",
            "335/336 [============================>.] - ETA: 0s - loss: 5.6184\n",
            "Epoch 00110: val_loss did not improve from 9.91394\n",
            "336/336 [==============================] - 69s 206ms/step - loss: 5.6083 - val_loss: 10.0489\n",
            "Epoch 111/1000\n",
            "335/336 [============================>.] - ETA: 0s - loss: 5.7290\n",
            "Epoch 00111: val_loss did not improve from 9.91394\n",
            "336/336 [==============================] - 70s 209ms/step - loss: 5.7170 - val_loss: 10.1145\n",
            "Epoch 112/1000\n",
            "335/336 [============================>.] - ETA: 0s - loss: 5.7965\n",
            "Epoch 00112: val_loss improved from 9.91394 to 9.89036, saving model to ../output/iam/flor/checkpoint_weights.hdf5\n",
            "336/336 [==============================] - 70s 210ms/step - loss: 5.7858 - val_loss: 9.8904\n",
            "Epoch 113/1000\n",
            "335/336 [============================>.] - ETA: 0s - loss: 5.6777\n",
            "Epoch 00113: val_loss did not improve from 9.89036\n",
            "336/336 [==============================] - 69s 206ms/step - loss: 5.6661 - val_loss: 9.8951\n",
            "Epoch 114/1000\n",
            "335/336 [============================>.] - ETA: 0s - loss: 5.6457\n",
            "Epoch 00114: val_loss did not improve from 9.89036\n",
            "336/336 [==============================] - 68s 203ms/step - loss: 5.6383 - val_loss: 10.0897\n",
            "Epoch 115/1000\n",
            "335/336 [============================>.] - ETA: 0s - loss: 5.5342\n",
            "Epoch 00115: val_loss did not improve from 9.89036\n",
            "336/336 [==============================] - 69s 206ms/step - loss: 5.5261 - val_loss: 10.1838\n",
            "Epoch 116/1000\n",
            "335/336 [============================>.] - ETA: 0s - loss: 5.5277\n",
            "Epoch 00116: val_loss did not improve from 9.89036\n",
            "336/336 [==============================] - 71s 211ms/step - loss: 5.5236 - val_loss: 10.0094\n",
            "Epoch 117/1000\n",
            "335/336 [============================>.] - ETA: 0s - loss: 5.5503\n",
            "Epoch 00117: val_loss did not improve from 9.89036\n",
            "336/336 [==============================] - 71s 211ms/step - loss: 5.5393 - val_loss: 10.1290\n",
            "Epoch 118/1000\n",
            "335/336 [============================>.] - ETA: 0s - loss: 5.5930\n",
            "Epoch 00118: val_loss did not improve from 9.89036\n",
            "336/336 [==============================] - 70s 209ms/step - loss: 5.5944 - val_loss: 10.0981\n",
            "Epoch 119/1000\n",
            "335/336 [============================>.] - ETA: 0s - loss: 5.4574\n",
            "Epoch 00119: val_loss did not improve from 9.89036\n",
            "336/336 [==============================] - 69s 205ms/step - loss: 5.4445 - val_loss: 10.0217\n",
            "Epoch 120/1000\n",
            "335/336 [============================>.] - ETA: 0s - loss: 5.5088\n",
            "Epoch 00120: val_loss did not improve from 9.89036\n",
            "336/336 [==============================] - 68s 202ms/step - loss: 5.4969 - val_loss: 10.0920\n",
            "Epoch 121/1000\n",
            "335/336 [============================>.] - ETA: 0s - loss: 5.3871\n",
            "Epoch 00121: val_loss did not improve from 9.89036\n",
            "336/336 [==============================] - 69s 204ms/step - loss: 5.3882 - val_loss: 10.1401\n",
            "Epoch 122/1000\n",
            "335/336 [============================>.] - ETA: 0s - loss: 5.3959\n",
            "Epoch 00122: val_loss did not improve from 9.89036\n",
            "336/336 [==============================] - 70s 208ms/step - loss: 5.3841 - val_loss: 10.0475\n",
            "Epoch 123/1000\n",
            "335/336 [============================>.] - ETA: 0s - loss: 5.4384\n",
            "Epoch 00123: val_loss did not improve from 9.89036\n",
            "336/336 [==============================] - 71s 211ms/step - loss: 5.4384 - val_loss: 10.1032\n",
            "Epoch 124/1000\n",
            "335/336 [============================>.] - ETA: 0s - loss: 5.5355\n",
            "Epoch 00124: val_loss did not improve from 9.89036\n",
            "336/336 [==============================] - 70s 208ms/step - loss: 5.5253 - val_loss: 10.1966\n",
            "Epoch 125/1000\n",
            "335/336 [============================>.] - ETA: 0s - loss: 5.3831\n",
            "Epoch 00125: val_loss did not improve from 9.89036\n",
            "336/336 [==============================] - 69s 207ms/step - loss: 5.3772 - val_loss: 9.9494\n",
            "Epoch 126/1000\n",
            "335/336 [============================>.] - ETA: 0s - loss: 5.4354\n",
            "Epoch 00126: val_loss did not improve from 9.89036\n",
            "336/336 [==============================] - 69s 205ms/step - loss: 5.4242 - val_loss: 10.1514\n",
            "Epoch 127/1000\n",
            "335/336 [============================>.] - ETA: 0s - loss: 5.3903\n",
            "Epoch 00127: val_loss did not improve from 9.89036\n",
            "\n",
            "Epoch 00127: ReduceLROnPlateau reducing learning rate to 4.0000001899898055e-05.\n",
            "336/336 [==============================] - 68s 204ms/step - loss: 5.3813 - val_loss: 10.1244\n",
            "Epoch 128/1000\n",
            "335/336 [============================>.] - ETA: 0s - loss: 5.3093\n",
            "Epoch 00128: val_loss improved from 9.89036 to 9.88245, saving model to ../output/iam/flor/checkpoint_weights.hdf5\n",
            "336/336 [==============================] - 70s 209ms/step - loss: 5.3005 - val_loss: 9.8824\n",
            "Epoch 129/1000\n",
            "335/336 [============================>.] - ETA: 0s - loss: 5.1393\n",
            "Epoch 00129: val_loss improved from 9.88245 to 9.87319, saving model to ../output/iam/flor/checkpoint_weights.hdf5\n",
            "336/336 [==============================] - 70s 208ms/step - loss: 5.1305 - val_loss: 9.8732\n",
            "Epoch 130/1000\n",
            "335/336 [============================>.] - ETA: 0s - loss: 5.1611\n",
            "Epoch 00130: val_loss did not improve from 9.87319\n",
            "336/336 [==============================] - 70s 207ms/step - loss: 5.1499 - val_loss: 9.9197\n",
            "Epoch 131/1000\n",
            "335/336 [============================>.] - ETA: 0s - loss: 5.0907\n",
            "Epoch 00131: val_loss did not improve from 9.87319\n",
            "336/336 [==============================] - 69s 206ms/step - loss: 5.0820 - val_loss: 9.9250\n",
            "Epoch 132/1000\n",
            "335/336 [============================>.] - ETA: 0s - loss: 5.1894\n",
            "Epoch 00132: val_loss improved from 9.87319 to 9.84450, saving model to ../output/iam/flor/checkpoint_weights.hdf5\n",
            "336/336 [==============================] - 69s 205ms/step - loss: 5.1835 - val_loss: 9.8445\n",
            "Epoch 133/1000\n",
            "335/336 [============================>.] - ETA: 0s - loss: 4.9683\n",
            "Epoch 00133: val_loss improved from 9.84450 to 9.84137, saving model to ../output/iam/flor/checkpoint_weights.hdf5\n",
            "336/336 [==============================] - 69s 205ms/step - loss: 4.9567 - val_loss: 9.8414\n",
            "Epoch 134/1000\n",
            "335/336 [============================>.] - ETA: 0s - loss: 5.1750\n",
            "Epoch 00134: val_loss improved from 9.84137 to 9.81289, saving model to ../output/iam/flor/checkpoint_weights.hdf5\n",
            "336/336 [==============================] - 69s 205ms/step - loss: 5.1774 - val_loss: 9.8129\n",
            "Epoch 135/1000\n",
            "335/336 [============================>.] - ETA: 0s - loss: 5.2530\n",
            "Epoch 00135: val_loss did not improve from 9.81289\n",
            "336/336 [==============================] - 69s 205ms/step - loss: 5.2505 - val_loss: 9.8736\n",
            "Epoch 136/1000\n",
            "335/336 [============================>.] - ETA: 0s - loss: 5.0928\n",
            "Epoch 00136: val_loss did not improve from 9.81289\n",
            "336/336 [==============================] - 68s 202ms/step - loss: 5.0915 - val_loss: 9.8709\n",
            "Epoch 137/1000\n",
            "335/336 [============================>.] - ETA: 0s - loss: 5.1726\n",
            "Epoch 00137: val_loss did not improve from 9.81289\n",
            "336/336 [==============================] - 68s 203ms/step - loss: 5.1618 - val_loss: 9.8367\n",
            "Epoch 138/1000\n",
            "335/336 [============================>.] - ETA: 0s - loss: 5.0449\n",
            "Epoch 00138: val_loss improved from 9.81289 to 9.77081, saving model to ../output/iam/flor/checkpoint_weights.hdf5\n",
            "336/336 [==============================] - 70s 209ms/step - loss: 5.0350 - val_loss: 9.7708\n",
            "Epoch 139/1000\n",
            "335/336 [============================>.] - ETA: 0s - loss: 5.1238\n",
            "Epoch 00139: val_loss did not improve from 9.77081\n",
            "336/336 [==============================] - 68s 204ms/step - loss: 5.1144 - val_loss: 9.8320\n",
            "Epoch 140/1000\n",
            "335/336 [============================>.] - ETA: 0s - loss: 5.0872\n",
            "Epoch 00140: val_loss improved from 9.77081 to 9.76503, saving model to ../output/iam/flor/checkpoint_weights.hdf5\n",
            "336/336 [==============================] - 70s 208ms/step - loss: 5.0750 - val_loss: 9.7650\n",
            "Epoch 141/1000\n",
            "335/336 [============================>.] - ETA: 0s - loss: 5.0840\n",
            "Epoch 00141: val_loss improved from 9.76503 to 9.75428, saving model to ../output/iam/flor/checkpoint_weights.hdf5\n",
            "336/336 [==============================] - 71s 211ms/step - loss: 5.0766 - val_loss: 9.7543\n",
            "Epoch 142/1000\n",
            "335/336 [============================>.] - ETA: 0s - loss: 5.1574\n",
            "Epoch 00142: val_loss did not improve from 9.75428\n",
            "336/336 [==============================] - 70s 207ms/step - loss: 5.1473 - val_loss: 9.8476\n",
            "Epoch 143/1000\n",
            "335/336 [============================>.] - ETA: 0s - loss: 5.0455\n",
            "Epoch 00143: val_loss did not improve from 9.75428\n",
            "336/336 [==============================] - 70s 209ms/step - loss: 5.0343 - val_loss: 9.8314\n",
            "Epoch 144/1000\n",
            "335/336 [============================>.] - ETA: 0s - loss: 4.9928\n",
            "Epoch 00144: val_loss did not improve from 9.75428\n",
            "336/336 [==============================] - 70s 207ms/step - loss: 4.9845 - val_loss: 9.7631\n",
            "Epoch 145/1000\n",
            "335/336 [============================>.] - ETA: 0s - loss: 4.9543\n",
            "Epoch 00145: val_loss did not improve from 9.75428\n",
            "336/336 [==============================] - 70s 207ms/step - loss: 4.9436 - val_loss: 9.8208\n",
            "Epoch 146/1000\n",
            "335/336 [============================>.] - ETA: 0s - loss: 5.0033\n",
            "Epoch 00146: val_loss improved from 9.75428 to 9.73834, saving model to ../output/iam/flor/checkpoint_weights.hdf5\n",
            "336/336 [==============================] - 71s 212ms/step - loss: 4.9908 - val_loss: 9.7383\n",
            "Epoch 147/1000\n",
            "335/336 [============================>.] - ETA: 0s - loss: 5.0643\n",
            "Epoch 00147: val_loss did not improve from 9.73834\n",
            "336/336 [==============================] - 71s 211ms/step - loss: 5.0529 - val_loss: 9.7836\n",
            "Epoch 148/1000\n",
            "335/336 [============================>.] - ETA: 0s - loss: 4.9395\n",
            "Epoch 00148: val_loss did not improve from 9.73834\n",
            "336/336 [==============================] - 71s 211ms/step - loss: 4.9288 - val_loss: 9.8273\n",
            "Epoch 149/1000\n",
            "335/336 [============================>.] - ETA: 0s - loss: 5.0170\n",
            "Epoch 00149: val_loss improved from 9.73834 to 9.73537, saving model to ../output/iam/flor/checkpoint_weights.hdf5\n",
            "336/336 [==============================] - 72s 214ms/step - loss: 5.0060 - val_loss: 9.7354\n",
            "Epoch 150/1000\n",
            "335/336 [============================>.] - ETA: 0s - loss: 5.0226\n",
            "Epoch 00150: val_loss did not improve from 9.73537\n",
            "336/336 [==============================] - 71s 212ms/step - loss: 5.0141 - val_loss: 9.7750\n",
            "Epoch 151/1000\n",
            "335/336 [============================>.] - ETA: 0s - loss: 5.0992\n",
            "Epoch 00151: val_loss did not improve from 9.73537\n",
            "336/336 [==============================] - 72s 214ms/step - loss: 5.0928 - val_loss: 9.8097\n",
            "Epoch 152/1000\n",
            "335/336 [============================>.] - ETA: 0s - loss: 5.0259\n",
            "Epoch 00152: val_loss did not improve from 9.73537\n",
            "336/336 [==============================] - 71s 212ms/step - loss: 5.0128 - val_loss: 9.8054\n",
            "Epoch 153/1000\n",
            "335/336 [============================>.] - ETA: 0s - loss: 4.8167\n",
            "Epoch 00153: val_loss did not improve from 9.73537\n",
            "336/336 [==============================] - 71s 213ms/step - loss: 4.8074 - val_loss: 9.8019\n",
            "Epoch 154/1000\n",
            "335/336 [============================>.] - ETA: 0s - loss: 5.0092\n",
            "Epoch 00154: val_loss did not improve from 9.73537\n",
            "336/336 [==============================] - 71s 212ms/step - loss: 4.9987 - val_loss: 9.8041\n",
            "Epoch 155/1000\n",
            "335/336 [============================>.] - ETA: 0s - loss: 4.9539\n",
            "Epoch 00155: val_loss did not improve from 9.73537\n",
            "336/336 [==============================] - 71s 211ms/step - loss: 4.9450 - val_loss: 9.7532\n",
            "Epoch 156/1000\n",
            "335/336 [============================>.] - ETA: 0s - loss: 4.9128\n",
            "Epoch 00156: val_loss did not improve from 9.73537\n",
            "336/336 [==============================] - 71s 211ms/step - loss: 4.9025 - val_loss: 9.7490\n",
            "Epoch 157/1000\n",
            "335/336 [============================>.] - ETA: 0s - loss: 5.0626\n",
            "Epoch 00157: val_loss did not improve from 9.73537\n",
            "336/336 [==============================] - 71s 210ms/step - loss: 5.0530 - val_loss: 9.7481\n",
            "Epoch 158/1000\n",
            "335/336 [============================>.] - ETA: 0s - loss: 4.8798\n",
            "Epoch 00158: val_loss did not improve from 9.73537\n",
            "336/336 [==============================] - 71s 212ms/step - loss: 4.8730 - val_loss: 9.7576\n",
            "Epoch 159/1000\n",
            "335/336 [============================>.] - ETA: 0s - loss: 4.7542\n",
            "Epoch 00159: val_loss did not improve from 9.73537\n",
            "336/336 [==============================] - 71s 212ms/step - loss: 4.7455 - val_loss: 9.7705\n",
            "Epoch 160/1000\n",
            "335/336 [============================>.] - ETA: 0s - loss: 4.9598\n",
            "Epoch 00160: val_loss did not improve from 9.73537\n",
            "336/336 [==============================] - 72s 213ms/step - loss: 4.9505 - val_loss: 9.7795\n",
            "Epoch 161/1000\n",
            "335/336 [============================>.] - ETA: 0s - loss: 4.8388\n",
            "Epoch 00161: val_loss did not improve from 9.73537\n",
            "336/336 [==============================] - 70s 209ms/step - loss: 4.8288 - val_loss: 9.8523\n",
            "Epoch 162/1000\n",
            "335/336 [============================>.] - ETA: 0s - loss: 4.8859\n",
            "Epoch 00162: val_loss did not improve from 9.73537\n",
            "336/336 [==============================] - 70s 209ms/step - loss: 4.8813 - val_loss: 9.8065\n",
            "Epoch 163/1000\n",
            "335/336 [============================>.] - ETA: 0s - loss: 4.8441\n",
            "Epoch 00163: val_loss did not improve from 9.73537\n",
            "336/336 [==============================] - 69s 207ms/step - loss: 4.8349 - val_loss: 9.7933\n",
            "Epoch 164/1000\n",
            "335/336 [============================>.] - ETA: 0s - loss: 4.8414\n",
            "Epoch 00164: val_loss did not improve from 9.73537\n",
            "\n",
            "Epoch 00164: ReduceLROnPlateau reducing learning rate to 8.000000525498762e-06.\n",
            "336/336 [==============================] - 70s 207ms/step - loss: 4.8304 - val_loss: 9.8293\n",
            "Epoch 165/1000\n",
            "335/336 [============================>.] - ETA: 0s - loss: 4.7672\n",
            "Epoch 00165: val_loss did not improve from 9.73537\n",
            "336/336 [==============================] - 69s 207ms/step - loss: 4.7560 - val_loss: 9.7925\n",
            "Epoch 166/1000\n",
            "335/336 [============================>.] - ETA: 0s - loss: 4.7757\n",
            "Epoch 00166: val_loss did not improve from 9.73537\n",
            "336/336 [==============================] - 69s 205ms/step - loss: 4.7665 - val_loss: 9.7753\n",
            "Epoch 167/1000\n",
            "335/336 [============================>.] - ETA: 0s - loss: 4.8497\n",
            "Epoch 00167: val_loss did not improve from 9.73537\n",
            "336/336 [==============================] - 69s 204ms/step - loss: 4.8552 - val_loss: 9.8101\n",
            "Epoch 168/1000\n",
            "335/336 [============================>.] - ETA: 0s - loss: 4.8489\n",
            "Epoch 00168: val_loss did not improve from 9.73537\n",
            "336/336 [==============================] - 69s 205ms/step - loss: 4.8381 - val_loss: 9.7558\n",
            "Epoch 169/1000\n",
            "335/336 [============================>.] - ETA: 0s - loss: 4.7895\n",
            "Epoch 00169: val_loss did not improve from 9.73537\n",
            "Restoring model weights from the end of the best epoch.\n",
            "336/336 [==============================] - 69s 206ms/step - loss: 4.7856 - val_loss: 9.7621\n",
            "Epoch 00169: early stopping\n",
            "Total train images:      5369\n",
            "Total validation images: 744\n",
            "Batch:                   16\n",
            "\n",
            "Total time:              3:14:12.320173\n",
            "Time per epoch:          0:01:08.948640\n",
            "Time per item:           0:00:00.011279\n",
            "\n",
            "Total epochs:            169\n",
            "Best epoch               149\n",
            "\n",
            "Training loss:           5.01080525\n",
            "Validation loss:         9.73536606\n"
          ],
          "name": "stdout"
        }
      ]
    },
    {
      "cell_type": "markdown",
      "metadata": {
        "colab_type": "text",
        "id": "13g7tDjWgtXV"
      },
      "source": [
        "## 4 Predict"
      ]
    },
    {
      "cell_type": "markdown",
      "metadata": {
        "colab_type": "text",
        "id": "ddO26OT-g_QK"
      },
      "source": [
        "The predict process is similar to the *predict* of the Keras:"
      ]
    },
    {
      "cell_type": "code",
      "metadata": {
        "colab_type": "code",
        "id": "a9iHL6tmaL_j",
        "outputId": "1679c50b-8e56-4ce4-f8f7-98c3060daf5f",
        "colab": {
          "base_uri": "https://localhost:8080/",
          "height": 1000
        }
      },
      "source": [
        "from data import preproc as pp\n",
        "from google.colab.patches import cv2_imshow\n",
        "\n",
        "start_time = datetime.datetime.now()\n",
        "\n",
        "# predict() function will return the predicts with the probabilities\n",
        "predicts, _ = model.predict(x=dtgen.next_test_batch(),\n",
        "                            steps=dtgen.steps['test'],\n",
        "                            ctc_decode=True,\n",
        "                            verbose=1)\n",
        "\n",
        "# decode to string\n",
        "predicts = [dtgen.tokenizer.decode(x[0]) for x in predicts]\n",
        "\n",
        "total_time = datetime.datetime.now() - start_time\n",
        "\n",
        "# mount predict corpus file\n",
        "with open(os.path.join(output_path, \"predict.txt\"), \"w\") as lg:\n",
        "    for pd, gt in zip(predicts, dtgen.dataset['test']['gt']):\n",
        "        lg.write(f\"TE_L {gt}\\nTE_P {pd}\\n\")\n",
        "   \n",
        "for i, item in enumerate(dtgen.dataset['test']['dt'][:10]):\n",
        "    print(\"=\" * 1024, \"\\n\")\n",
        "    cv2_imshow(pp.adjust_to_see(item))\n",
        "    print(dtgen.dataset['test']['gt'][i])\n",
        "    print(predicts[i], \"\\n\")"
      ],
      "execution_count": 0,
      "outputs": [
        {
          "output_type": "stream",
          "text": [
            "Model Predict\n",
            "90/90 [==============================] - 6s 63ms/step\n",
            "CTC Decode\n",
            "WARNING:tensorflow:From /usr/local/lib/python3.6/dist-packages/tensorflow_core/python/keras/backend.py:5811: sparse_to_dense (from tensorflow.python.ops.sparse_ops) is deprecated and will be removed in a future version.\n",
            "Instructions for updating:\n",
            "Create a `tf.sparse.SparseTensor` and use `tf.sparse.to_dense` instead.\n",
            "90/90 [==============================] - 61s 683ms/step\n",
            "================================================================================================================================================================================================================================================================================================================================================================================================================================================================================================================================================================================================================================================================================================================================================================================================================================================================================================================================================================================================================================================================ \n",
            "\n"
          ],
          "name": "stdout"
        },
        {
          "output_type": "display_data",
          "data": {
            "image/png": "[encoded data removed]",
            "text/plain": [
              "<PIL.Image.Image image mode=L size=1024x128 at 0x7F1566443160>"
            ]
          },
          "metadata": {
            "tags": []
          }
        },
        {
          "output_type": "stream",
          "text": [
            "He rose from his breakfast - nook bench\n",
            "He lose from his breakfait - not bench \n",
            "\n",
            "================================================================================================================================================================================================================================================================================================================================================================================================================================================================================================================================================================================================================================================================================================================================================================================================================================================================================================================================================================================================================================================================ \n",
            "\n"
          ],
          "name": "stdout"
        },
        {
          "output_type": "display_data",
          "data": {
            "image/png": "[encoded data removed]",
            "text/plain": [
              "<PIL.Image.Image image mode=L size=1024x128 at 0x7F1543BE2A20>"
            ]
          },
          "metadata": {
            "tags": []
          }
        },
        {
          "output_type": "stream",
          "text": [
            "and came into the livingroom , where\n",
            "and came into the livingion , where \n",
            "\n",
            "================================================================================================================================================================================================================================================================================================================================================================================================================================================================================================================================================================================================================================================================================================================================================================================================================================================================================================================================================================================================================================================================ \n",
            "\n"
          ],
          "name": "stdout"
        },
        {
          "output_type": "display_data",
          "data": {
            "image/png": "[encoded data removed]",
            "text/plain": [
              "<PIL.Image.Image image mode=L size=1024x128 at 0x7F1622E03E48>"
            ]
          },
          "metadata": {
            "tags": []
          }
        },
        {
          "output_type": "stream",
          "text": [
            "Heather and Steve stood aghast at\n",
            "Heatler and Meve Nod aglan at \n",
            "\n",
            "================================================================================================================================================================================================================================================================================================================================================================================================================================================================================================================================================================================================================================================================================================================================================================================================================================================================================================================================================================================================================================================================ \n",
            "\n"
          ],
          "name": "stdout"
        },
        {
          "output_type": "display_data",
          "data": {
            "image/png": "[encoded data removed]",
            "text/plain": [
              "<PIL.Image.Image image mode=L size=1024x128 at 0x7F15664430B8>"
            ]
          },
          "metadata": {
            "tags": []
          }
        },
        {
          "output_type": "stream",
          "text": [
            "his entrance . He came , almost falling\n",
            "lis entiance . He came , almon faling \n",
            "\n",
            "================================================================================================================================================================================================================================================================================================================================================================================================================================================================================================================================================================================================================================================================================================================================================================================================================================================================================================================================================================================================================================================================ \n",
            "\n"
          ],
          "name": "stdout"
        },
        {
          "output_type": "display_data",
          "data": {
            "image/png": "[encoded data removed]",
            "text/plain": [
              "<PIL.Image.Image image mode=L size=1024x128 at 0x7F15664430B8>"
            ]
          },
          "metadata": {
            "tags": []
          }
        },
        {
          "output_type": "stream",
          "text": [
            "forward in an ungainly shuffle , neck\n",
            "frvad in On ungainly slutle , neck \n",
            "\n",
            "================================================================================================================================================================================================================================================================================================================================================================================================================================================================================================================================================================================================================================================================================================================================================================================================================================================================================================================================================================================================================================================================ \n",
            "\n"
          ],
          "name": "stdout"
        },
        {
          "output_type": "display_data",
          "data": {
            "image/png": "[encoded data removed]",
            "text/plain": [
              "<PIL.Image.Image image mode=L size=1024x128 at 0x7F1566443C18>"
            ]
          },
          "metadata": {
            "tags": []
          }
        },
        {
          "output_type": "stream",
          "text": [
            "thrust out , arms dangling loosely .\n",
            "Aliw ocd , ans dangling losely . \n",
            "\n",
            "================================================================================================================================================================================================================================================================================================================================================================================================================================================================================================================================================================================================================================================================================================================================================================================================================================================================================================================================================================================================================================================================ \n",
            "\n"
          ],
          "name": "stdout"
        },
        {
          "output_type": "display_data",
          "data": {
            "image/png": "[encoded data removed]",
            "text/plain": [
              "<PIL.Image.Image image mode=L size=1024x128 at 0x7F15664430B8>"
            ]
          },
          "metadata": {
            "tags": []
          }
        },
        {
          "output_type": "stream",
          "text": [
            "Then , abruptly , he drew himself up\n",
            "Tlen , abmply , le odiev limself up \n",
            "\n",
            "================================================================================================================================================================================================================================================================================================================================================================================================================================================================================================================================================================================================================================================================================================================================================================================================================================================================================================================================================================================================================================================================ \n",
            "\n"
          ],
          "name": "stdout"
        },
        {
          "output_type": "display_data",
          "data": {
            "image/png": "[encoded data removed]",
            "text/plain": [
              "<PIL.Image.Image image mode=L size=1024x128 at 0x7F15664430B8>"
            ]
          },
          "metadata": {
            "tags": []
          }
        },
        {
          "output_type": "stream",
          "text": [
            "and walked on the very tips of\n",
            "And valked on te very lips of \n",
            "\n",
            "================================================================================================================================================================================================================================================================================================================================================================================================================================================================================================================================================================================================================================================================================================================================================================================================================================================================================================================================================================================================================================================================ \n",
            "\n"
          ],
          "name": "stdout"
        },
        {
          "output_type": "display_data",
          "data": {
            "image/png": "[encoded data removed]",
            "text/plain": [
              "<PIL.Image.Image image mode=L size=1024x128 at 0x7F15664430B8>"
            ]
          },
          "metadata": {
            "tags": []
          }
        },
        {
          "output_type": "stream",
          "text": [
            "his toes . He stretched his arms\n",
            "Ris 1oes . He stelcled lis ovens \n",
            "\n",
            "================================================================================================================================================================================================================================================================================================================================================================================================================================================================================================================================================================================================================================================================================================================================================================================================================================================================================================================================================================================================================================================================ \n",
            "\n"
          ],
          "name": "stdout"
        },
        {
          "output_type": "display_data",
          "data": {
            "image/png": "[encoded data removed]",
            "text/plain": [
              "<PIL.Image.Image image mode=L size=1024x128 at 0x7F15664430B8>"
            ]
          },
          "metadata": {
            "tags": []
          }
        },
        {
          "output_type": "stream",
          "text": [
            "drawing - in great breaths that\n",
            "drawing - in gread brsals 1l0 \n",
            "\n"
          ],
          "name": "stdout"
        }
      ]
    },
    {
      "cell_type": "markdown",
      "metadata": {
        "id": "la7drs5uKBU3",
        "colab_type": "text"
      },
      "source": [
        "The top sentence is the actual text and the bottom sentence is the predicted text."
      ]
    },
    {
      "cell_type": "markdown",
      "metadata": {
        "colab_type": "text",
        "id": "9JcAs3Q3WNJ-"
      },
      "source": [
        "## 5 Evaluate"
      ]
    },
    {
      "cell_type": "markdown",
      "metadata": {
        "colab_type": "text",
        "id": "8LuZBRepWbom"
      },
      "source": [
        "Evaluation process is more manual process. Here we have the `ocr_metrics`, but feel free to implement other metrics instead. In the function, we have three parameters: \n",
        "\n",
        "* predicts\n",
        "* ground_truth\n",
        "* norm_accentuation (calculation with/without accentuation)\n",
        "* norm_punctuation (calculation with/without punctuation marks)"
      ]
    },
    {
      "cell_type": "code",
      "metadata": {
        "colab_type": "code",
        "id": "0gCwEYdKWOPK",
        "outputId": "6cf59130-5931-471b-d769-b610a234c57a",
        "colab": {
          "base_uri": "https://localhost:8080/",
          "height": 156
        }
      },
      "source": [
        "from data import evaluation\n",
        "\n",
        "evaluate = evaluation.ocr_metrics(predicts=predicts,\n",
        "                                  ground_truth=dtgen.dataset['test']['gt'],\n",
        "                                  norm_accentuation=False,\n",
        "                                  norm_punctuation=False)\n",
        "\n",
        "e_corpus = \"\\n\".join([\n",
        "    f\"Total test images:    {dtgen.size['test']}\",\n",
        "    f\"Total time:           {total_time}\",\n",
        "    f\"Time per item:        {total_time / dtgen.size['test']}\\n\",\n",
        "    f\"Metrics:\",\n",
        "    f\"Character Error Rate: {evaluate[0]:.8f}\",\n",
        "    f\"Word Error Rate:      {evaluate[1]:.8f}\",\n",
        "    f\"Sequence Error Rate:  {evaluate[2]:.8f}\"\n",
        "])\n",
        "\n",
        "with open(os.path.join(output_path, \"evaluate.txt\"), \"w\") as lg:\n",
        "    lg.write(e_corpus)\n",
        "    print(e_corpus)"
      ],
      "execution_count": 0,
      "outputs": [
        {
          "output_type": "stream",
          "text": [
            "Total test images:    1425\n",
            "Total time:           0:01:07.633403\n",
            "Time per item:        0:00:00.047462\n",
            "\n",
            "Metrics:\n",
            "Character Error Rate: 0.07405119\n",
            "Word Error Rate:      0.24940606\n",
            "Sequence Error Rate:  0.90877193\n"
          ],
          "name": "stdout"
        }
      ]
    }
  ]
}